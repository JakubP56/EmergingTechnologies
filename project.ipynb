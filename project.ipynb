{
 "cells": [
  {
   "cell_type": "markdown",
   "metadata": {},
   "source": [
    "# Quantum Computing: Exploring Deutsch's Algorithm\n",
    "\n",
    "*Jakub Prochnicki G00373793*\n",
    "\n",
    "---"
   ]
  },
  {
   "cell_type": "markdown",
   "metadata": {},
   "source": [
    "# Table of Contents\n",
    "1. [Introduction To Quantum Computing](#intro)\n",
    "2. [Key Quantum Concepts](#concepts)\n",
    "3. [Deutsch's Algorithm: The Oracle Problem](#oracle)\n",
    "4. [Implementing Deutsch's Algorithm in Qiskit](#implementation)\n",
    "5. [Conclusion](#conclusion)\n",
    "\n",
    "\n",
    "---"
   ]
  },
  {
   "cell_type": "markdown",
   "metadata": {},
   "source": [
    "\n",
    "<a id=\"intro\"></a>\n",
    "## **What is Quantum Computing and How does it compare to Classical Computers?**\n",
    "\n",
    "\"Quantum computing is a rapidly-emerging technology that harnesses the laws of quantum mechanics to solve problems too complex for classical computers.\"  [1] \n",
    "\n",
    "### *Classical Computers*\n",
    "\n",
    "Classical Computers like a laptop process information using bits. A bit can be taught of as a switch with two states: 0 and 1, which in simple terms means off or on. These bits are used to represent all the calculations in a classical computer.\n",
    "\n",
    "### *Quantum Computers*\n",
    "\n",
    "In Quantum Computers, calculations are done using quantum bits(qubits). These Qubits are explained in the section below.\n",
    "\n"
   ]
  },
  {
   "cell_type": "markdown",
   "metadata": {},
   "source": [
    "<a id=\"concepts\"></a>\n",
    "## **Key Quantum Concepts**\n"
   ]
  },
  {
   "cell_type": "markdown",
   "metadata": {},
   "source": [
    "### *Qubits*\n",
    "\n",
    "\"A quantum bit is any bit made out of a quantum system, like an electron or photon\"[2]. Qubits can be in any hybrid position of 0 and 1, meaning they can either be 0 or 1, or a combination of both. This is known as superposition. Superposition is a quantum concept that allows qubits to exist in multiple states simultaneously. This concept allows quantum computers to perform certain computations more efficiently.\n"
   ]
  },
  {
   "cell_type": "markdown",
   "metadata": {},
   "source": [
    "### *Quantum Superposition*\n",
    "\n",
    "Superposition is a fundamental principle of quantum mechanics. It is part of what sets a qubit apart from a classical bit. This property allows qubits to represent a combination of 0 and 1 at the same time while classical bits only represent either 0 or 1. When a quantum system in superposition is measured, it collapses to one of its eigenstates and provides a single outcome. [3]\n",
    "\n"
   ]
  },
  {
   "cell_type": "markdown",
   "metadata": {},
   "source": [
    "### *Hammard Gates*\n",
    "\n",
    "\n",
    "A Hadammard gate is a fundamental quantum gate that creates a superposition state and equally splits the probability between the |0⟩ and |1⟩ states. It's necessary in quantum computing for generating superpositions."
   ]
  },
  {
   "cell_type": "markdown",
   "metadata": {},
   "source": [
    "### *Oracle*\n",
    "\n",
    "In the context of the problem I am going to be exploring in this notebook, an oracle is essentially an operation that has some property that you don't know, and are trying to find out. The term \"black box\" is used to simplify that it's just a box that you can't see inside of, and therefore don't know what it's doing. All we know is that it can receive input and produce output. I will be demonstrating an oracle in action during the steps of implementing Deutsch's Algorithm in Qiskit."
   ]
  },
  {
   "cell_type": "markdown",
   "metadata": {},
   "source": [
    "<a id=\"oracle\"></a>\n",
    "# **Deutsch's Algorithm**"
   ]
  },
  {
   "cell_type": "markdown",
   "metadata": {},
   "source": [
    "Deutsch's Algorithm was proposed by David Deutsch in 1985 in order to demonstrate the computational speedup of quantum computers compared to classical computer for certain tasks. It indicates that quantum computers could be more powerful than classical computers. It is one of the earliest algorithms to explore this idea. \n",
    "\n",
    "### *The Oracle Problem*\n",
    "\n",
    "You are given a function of $f(x)$.The function is hidden and what it does is not disclosed. This function takes in a list of bits (0 or a 1) and returns either a 0 or a 1, based on the input. The aim of the problem is to determine whether the  function is either a constant or a balanced function. [4]\n",
    "\n",
    "$f : \\{0,1\\} \\rightarrow \\{0,1\\}$\n",
    "\n",
    "*A constant function* is a function that always returns the same value no matter what input it is given. We can see this in the table below. The constant function always returns 0, whether the input is 0 or 1.\n",
    "\n",
    "$\\begin{array}{|c|c|}\n",
    "\\hline\n",
    "\\text{Input (x)} & \\text{Output (f1(x))} \\\\\n",
    "\\hline\n",
    "0 & 0 \\\\\n",
    "\\hline\n",
    "1 & 0 \\\\\n",
    "\\hline\n",
    "\\end{array}$\n",
    "\n",
    "*A balanced function* is a function that returns 0 for half of the inputs and 1 for the other half. We can see in the table below that this function returns 0 when the input is 0 and returns 1 when the input is 1.\n",
    "\n",
    "$\\begin{array}{|c|c|}\n",
    "\\hline\n",
    "\\text{Input (x)} & \\text{Output (f2(x))} \\\\\n",
    "\\hline\n",
    "0 & 0 \\\\\n",
    "\\hline\n",
    "1 & 1 \\\\\n",
    "\\hline\n",
    "\\end{array}$\n",
    "\n",
    "\n"
   ]
  },
  {
   "cell_type": "markdown",
   "metadata": {},
   "source": [
    "### *Classical Computer Solution*\n"
   ]
  },
  {
   "cell_type": "code",
   "execution_count": 4,
   "metadata": {},
   "outputs": [
    {
     "name": "stdout",
     "output_type": "stream",
     "text": [
      "Constant\n",
      "Balanced\n"
     ]
    }
   ],
   "source": [
    "# will always return 0\n",
    "def constant(x):\n",
    "    return 0  \n",
    "\n",
    "# will return 0 if input is 0, will return 1 if input is 1\n",
    "def balanced(x):\n",
    "    return x  \n",
    "\n",
    "def determine_function(f):\n",
    "    if f(0) == f(1):\n",
    "        return \"Constant\"\n",
    "    else:\n",
    "        return \"Balanced\"\n",
    "\n",
    "# test functions\n",
    "print(determine_function_type(constant_function))  \n",
    "print(determine_function_type(balanced_function))  "
   ]
  },
  {
   "cell_type": "markdown",
   "metadata": {},
   "source": [
    "<a id=\"implement\"></a>\n",
    "# **Implementing Deutsch's Algorithm in Qiskit**"
   ]
  },
  {
   "cell_type": "markdown",
   "metadata": {},
   "source": [
    "## *Step 1: Initialization*\n",
    "\n",
    "The first step of implementing the Deutsch's Algorithm in Qiskit is initialization. During this stage, I am initializing two qubits. The first qubit is initialized in the state ∣0⟩, and the second qubit is initialized in the state ∣1⟩."
   ]
  },
  {
   "cell_type": "markdown",
   "metadata": {},
   "source": [
    "## *Step 2: Superposition*\n",
    "\n",
    "In this step, I am applying a Hammard Gate to both qubits, which puts them in a state of superposition. This means that they are in a combination of all possible states."
   ]
  },
  {
   "cell_type": "markdown",
   "metadata": {},
   "source": [
    "## *Step 3: Oracle Application*\n",
    " \n",
    "In this step, I am applying the oracle function, $( U_f )$, to both qubits. The oracle is a black-box quantum operation that knows how to compute the function $f(x)$. If $f(x)$ is constant, it leaves the first qubit unchanged; if $f(x)$ is balanced, it flips the first qubit.\n"
   ]
  },
  {
   "cell_type": "markdown",
   "metadata": {},
   "source": [
    "## *Step 4: Interference*\n",
    "\n",
    "In this step, I am applying a hammard gate to the first qubit. This causes interference and causes the quantum states to combine in ways that extract the property of the function."
   ]
  },
  {
   "cell_type": "markdown",
   "metadata": {},
   "source": [
    "## *Step 5: Measurement*\n",
    "\n",
    "Here I am measuring the first qubit. We can determine the type of function by looking at the state of the qubit.\n",
    "\n",
    "- If the first qubit is observed in the state $|0\\rangle$ , then the function $(f)$ is constant.\n",
    "\n",
    "-  If it is in the state $|1\\rangle$ , then the function $(f)$ is balanced."
   ]
  },
  {
   "cell_type": "markdown",
   "metadata": {},
   "source": [
    "### *Putting it all together*\n",
    "\n",
    "Below I have put the steps together and implemented the algorithm. [5]"
   ]
  },
  {
   "cell_type": "code",
   "execution_count": 2,
   "metadata": {},
   "outputs": [],
   "source": [
    "from qiskit import Aer, execute, QuantumCircuit\n",
    "from qiskit.visualization import  plot_histogram\n",
    "from qiskit.visualization import circuit_drawer\n",
    "\n",
    "def deutsch_algorithm(function_type):\n",
    "    \n",
    "    # STEP 1\n",
    "    # creating a quantum circuit consisting of two qubits and a classical register of 1\n",
    "    circuit = QuantumCircuit(2,1)\n",
    "\n",
    "    # changing the state of the first qubit to ∣1⟩\n",
    "    circuit.x(1)\n",
    "\n",
    "    circuit.barrier()\n",
    "\n",
    "    # STEP 2\n",
    "    # applying hammard gate to both qubits\n",
    "    circuit.h(0)\n",
    "    circuit.h(1)\n",
    "\n",
    "    circuit.barrier()\n",
    "\n",
    "    # STEP 3\n",
    "    # creating the oracle\n",
    "    if function_type == \"balanced\":\n",
    "        # apply cnot gate and flip the first qubit\n",
    "        circuit.cx(0, 1)\n",
    "    elif function_type == \"constant\":\n",
    "        # leave qubit unchanged if function is constant\n",
    "        pass\n",
    "    \n",
    "    # STEP 4\n",
    "    # applying hammard gate\n",
    "    circuit.h(0)\n",
    "    \n",
    "    # STEP 5\n",
    "    # measuring the first qubit\n",
    "    circuit.measure(0,0)\n",
    "\n",
    "    return circuit"
   ]
  },
  {
   "cell_type": "markdown",
   "metadata": {},
   "source": [
    "### *Constant Circuit*"
   ]
  },
  {
   "cell_type": "code",
   "execution_count": 5,
   "metadata": {},
   "outputs": [
    {
     "data": {
      "image/png": "[encoded data removed]",
      "text/plain": [
       "<Figure size 621.739x284.278 with 1 Axes>"
      ]
     },
     "execution_count": 5,
     "metadata": {},
     "output_type": "execute_result"
    }
   ],
   "source": [
    "\n",
    "constant_function = deutsch_algorithm('constant')\n",
    "constant_function.draw(output='mpl')"
   ]
  },
  {
   "cell_type": "markdown",
   "metadata": {},
   "source": [
    "### *Balanced Circuit*"
   ]
  },
  {
   "cell_type": "code",
   "execution_count": 4,
   "metadata": {},
   "outputs": [
    {
     "data": {
      "image/png": "[encoded data removed]",
      "text/plain": [
       "<Figure size 705.35x284.278 with 1 Axes>"
      ]
     },
     "execution_count": 4,
     "metadata": {},
     "output_type": "execute_result"
    }
   ],
   "source": [
    "\n",
    "balanced_function = deutsch_algorithm('balanced')\n",
    "balanced_function.draw(output='mpl')"
   ]
  },
  {
   "cell_type": "markdown",
   "metadata": {},
   "source": [
    "## *Simulating the Circuit*"
   ]
  },
  {
   "cell_type": "code",
   "execution_count": 5,
   "metadata": {},
   "outputs": [
    {
     "data": {
      "image/png": "[encoded data removed]",
      "text/plain": [
       "<Figure size 700x500 with 1 Axes>"
      ]
     },
     "execution_count": 5,
     "metadata": {},
     "output_type": "execute_result"
    }
   ],
   "source": [
    "from qiskit import Aer, execute\n",
    "from qiskit.visualization import plot_histogram\n",
    "\n",
    "# setting up the qasm simulator from the Aer package\n",
    "simulator = Aer.get_backend('qasm_simulator')\n",
    "\n",
    "# simulate for a balanced function\n",
    "balanced_circuit = deutsch_algorithm(\"balanced\")\n",
    "# running the quantum circuit\n",
    "balanced_job = execute(balanced_circuit, simulator, shots=1024)\n",
    "# receiving the result from running the quantum circuit \n",
    "balanced_result = balanced_job.result()\n",
    "# receiving the counts from the result\n",
    "balanced_counts = balanced_result.get_counts(balanced_circuit)\n",
    "\n",
    "# repeat for constant function\n",
    "constant_circuit = deutsch_algorithm(\"constant\")\n",
    "constant_job = execute(constant_circuit, simulator, shots=1024)\n",
    "constant_result = constant_job.result()\n",
    "constant_counts = constant_result.get_counts(constant_circuit)\n",
    "\n",
    "# render results in histogram\n",
    "plot_histogram([balanced_counts, constant_counts], legend=['Balanced', 'Constant'])"
   ]
  },
  {
   "cell_type": "markdown",
   "metadata": {},
   "source": [
    "<a id=\"conclusion\"></a>\n",
    "## Conclusion\n",
    "\n",
    "From Looking at the simulation of the circuit, we can take away the following:\n",
    "\n",
    "- The algorithm always results in 0 for a **constant function** as the transformation applied by the oracle doesn't change the superposition state created by the initial Hammard gates in a way that affects the result.\n",
    "\n",
    "- For a **balanced function**, the algorithm will always result 1. This is because the balanced oracle creates a phase kickback which alters the superposition state of the first qubit.\n",
    "\n",
    "They **key take away** here is the efficacy of the Algorithm. In classical computing, like demonstrated earlier in the notebook, determining whether a function is balanced or constant requires two evaluations. This is where Deutsch's Algorithm showcases a quantum advantage, as it only requires one evaluation.\n"
   ]
  },
  {
   "cell_type": "markdown",
   "metadata": {},
   "source": [
    "# **References**\n",
    "---\n",
    "[1] : https://www.ibm.com/topics/quantum-computing\n",
    "\n",
    "[2] : https://uwaterloo.ca/institute-for-quantum-computing/quantum-101/quantum-information-science-and-technology/what-qubit\n",
    "\n",
    "[3] : https://www.quantum-inspire.com/kbase/superposition-and-entanglement/\n",
    "\n",
    "[4] : https://people.vcu.edu/~sgharibian/courses/CMSC491/notes/Lecture%206%20-%20Deutsch's%20algorithm.pdf\n",
    "\n",
    "[5] : https://fullstackquantumcomputation.tech/blog/deutsch-algorithm/"
   ]
  }
 ],
 "metadata": {
  "kernelspec": {
   "display_name": "Python 3 (ipykernel)",
   "language": "python",
   "name": "python3"
  },
  "language_info": {
   "codemirror_mode": {
    "name": "ipython",
    "version": 3
   },
   "file_extension": ".py",
   "mimetype": "text/x-python",
   "name": "python",
   "nbconvert_exporter": "python",
   "pygments_lexer": "ipython3",
   "version": "3.8.18"
  }
 },
 "nbformat": 4,
 "nbformat_minor": 4
}
