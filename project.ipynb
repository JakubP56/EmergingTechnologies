{
 "cells": [
  {
   "cell_type": "markdown",
   "metadata": {},
   "source": [
    "# Quantum Computing: Exploring Deutsch's Algorithm\n",
    "\n",
    "*Jakub Prochnicki G00373793*\n",
    "\n",
    "---"
   ]
  },
  {
   "cell_type": "markdown",
   "metadata": {},
   "source": [
    "# Table of Contents\n",
    "1. [Introduction To Quantum Computing](#example)\n",
    "2. [Deutsch's Algorithm: The Oracle Problem](#example2)\n",
    "3. [Third Example](#third-example)\n",
    "4. [Fourth Example](#fourth-examplehttpwwwfourthexamplecom)\n",
    "\n",
    "\n",
    "---"
   ]
  },
  {
   "cell_type": "markdown",
   "metadata": {},
   "source": [
    "\n",
    "\n",
    "## **What is Quantum Computing and How does it compare to Classical Computers?**\n",
    "\n",
    "\"Quantum computing is a rapidly-emerging technology that harnesses the laws of quantum mechanics to solve problems too complex for classical computers.\"[1] \n",
    "\n",
    "### *Classical Computers*\n",
    "\n",
    "Classical Computers like a laptop process information using bits. A bit can be taught of as a switch with two states: 0 and 1, which in simple terms means off or on. These bits are used to represent all the calculations in a classical computer.\n",
    "\n",
    "### *Quantum Computers*\n",
    "\n",
    "In Quantum Computers, calculations are done using quantum bits(qubits). These qubits can be in any hybrid position of 0 and 1, meaning they can either be 0 or 1, or a combination of both. This is known as superposition. Superposition is a quantum concept that allows qubits to exist in multiple states simultaneously. This concept allows quantum computers to perform certain computations more efficiently.[2]\n",
    "\n"
   ]
  },
  {
   "cell_type": "markdown",
   "metadata": {},
   "source": [
    "## **Quantum Superposition and Entanglement**\n",
    "\n"
   ]
  },
  {
   "cell_type": "markdown",
   "metadata": {},
   "source": [
    "## **Hammard Gates**"
   ]
  },
  {
   "cell_type": "markdown",
   "metadata": {},
   "source": [
    "# **Deutsch's Algorithm**"
   ]
  },
  {
   "cell_type": "markdown",
   "metadata": {},
   "source": [
    "Deutsch's Algorithm was proposed by David Deutsch in 1985 in order to demonstrate the computational speedup of quantum computers compared to classical computer for certain tasks. It indicates that quantum computers could be more powerful than classical computers. It is one of the earliest algorithms to explore this idea. The algorithm focuses on solving the oracle problem.\n",
    "\n",
    "### *The Problem*\n",
    "\n",
    "You are given a function of $f(x)$.The function is hidden and what it does is not disclosed. This function takes in a list of bits (0 or a 1) and returns either a 0 or a 1, based on the input. The aim of the problem is to determine whether the  function is either a constant or a balanced function. \n",
    "\n",
    "$f : \\{0,1\\} \\rightarrow \\{0,1\\}$\n",
    "\n",
    "*A constant function* is a function that always returns the same value no matter what input it is given. We can see this in the table below. The constant function always returns 0, whether the input is 0 or 1.\n",
    "\n",
    "$\\begin{array}{|c|c|}\n",
    "\\hline\n",
    "\\text{Input (x)} & \\text{Output (f1(x))} \\\\\n",
    "\\hline\n",
    "0 & 0 \\\\\n",
    "\\hline\n",
    "1 & 0 \\\\\n",
    "\\hline\n",
    "\\end{array}$\n",
    "\n",
    "*A balanced function* is a function that returns 0 for half of the inputs and 1 for the other half. We can see in the table below that this function returns 0 when the input is 0 and returns 1 when the input is 1.\n",
    "\n",
    "$\\begin{array}{|c|c|}\n",
    "\\hline\n",
    "\\text{Input (x)} & \\text{Output (f2(x))} \\\\\n",
    "\\hline\n",
    "0 & 0 \\\\\n",
    "\\hline\n",
    "1 & 1 \\\\\n",
    "\\hline\n",
    "\\end{array}$\n",
    "\n",
    "\n"
   ]
  },
  {
   "cell_type": "markdown",
   "metadata": {},
   "source": [
    "### *Classical Computer Solution*\n"
   ]
  },
  {
   "cell_type": "code",
   "execution_count": 4,
   "metadata": {},
   "outputs": [
    {
     "name": "stdout",
     "output_type": "stream",
     "text": [
      "Constant\n",
      "Balanced\n"
     ]
    }
   ],
   "source": [
    "def constant(x):\n",
    "    return 0  # will always return 0\n",
    "\n",
    "def balanced(x):\n",
    "    return x  # will return 0 if input is 0, will return 1 if input is 1\n",
    "\n",
    "def determine_function(f):\n",
    "    if f(0) == f(1):\n",
    "        return \"Constant\"\n",
    "    else:\n",
    "        return \"Balanced\"\n",
    "\n",
    "# test functions\n",
    "print(determine_function_type(constant_function))  \n",
    "print(determine_function_type(balanced_function))  "
   ]
  },
  {
   "cell_type": "markdown",
   "metadata": {},
   "source": [
    "# **Implementing Deutsch's Algorithm in Qiskit**"
   ]
  },
  {
   "cell_type": "markdown",
   "metadata": {},
   "source": [
    "## Step 1: Initialization\n",
    "\n",
    "The first step of implementing the Deutsch's Algorithm in Qiskit is initialization. During this stage, I am initializing two qubits. The first qubit is initialized in the state ∣0⟩, and the second qubit is initialized in the state ∣1⟩."
   ]
  },
  {
   "cell_type": "code",
   "execution_count": 1,
   "metadata": {},
   "outputs": [
    {
     "data": {
      "image/png": "[encoded data removed]",
      "text/plain": [
       "<Figure size 287.294x200.667 with 1 Axes>"
      ]
     },
     "execution_count": 1,
     "metadata": {},
     "output_type": "execute_result"
    }
   ],
   "source": [
    "\n",
    "from qiskit import QuantumCircuit, QuantumRegister, ClassicalRegister, execute, Aer, IBMQ, BasicAer\n",
    "from qiskit.visualization import plot_bloch_multivector,plot_bloch_vector, plot_histogram\n",
    "from qiskit.quantum_info import Statevector\n",
    "\n",
    "# creating a quantum circuit consisting of two qubits\n",
    "circuit = QuantumCircuit(2)\n",
    "\n",
    "# changing the state of the first qubit to ∣1⟩\n",
    "circuit.x(1)\n",
    "\n",
    "circuit.barrier()\n",
    "circuit.draw(output='mpl') \n"
   ]
  },
  {
   "cell_type": "markdown",
   "metadata": {},
   "source": [
    "## Step 2: Superposition\n",
    "\n",
    "In this step, I am applying a Hammard Gate to both qubits, which puts them in a state of superposition. This means that they are in a combination of all possible states."
   ]
  },
  {
   "cell_type": "code",
   "execution_count": 2,
   "metadata": {},
   "outputs": [
    {
     "data": {
      "text/plain": [
       "<qiskit.circuit.instructionset.InstructionSet at 0x1b86168c910>"
      ]
     },
     "execution_count": 2,
     "metadata": {},
     "output_type": "execute_result"
    }
   ],
   "source": [
    "# applying hammard gate to both qubits\n",
    "circuit.h(0)\n",
    "circuit.h(1)"
   ]
  }
 ],
 "metadata": {
  "kernelspec": {
   "display_name": "base",
   "language": "python",
   "name": "python3"
  },
  "language_info": {
   "codemirror_mode": {
    "name": "ipython",
    "version": 3
   },
   "file_extension": ".py",
   "mimetype": "text/x-python",
   "name": "python",
   "nbconvert_exporter": "python",
   "pygments_lexer": "ipython3",
   "version": "3.11.5"
  }
 },
 "nbformat": 4,
 "nbformat_minor": 2
}
