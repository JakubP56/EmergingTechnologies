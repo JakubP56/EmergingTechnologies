{
 "cells": [
  {
   "cell_type": "markdown",
   "metadata": {},
   "source": [
    "# Emerging Technologies\n",
    "\n",
    "*Jakub Prochnicki G00373793*\n",
    "\n",
    "---"
   ]
  },
  {
   "cell_type": "markdown",
   "metadata": {},
   "source": [
    "# The Collatz Conjecture\n",
    "\n",
    "The Collatz Conjecture is a widely known, unsolved mathematical problem. The conjecture is an iterative process and can be defined as follows[1]:\n",
    "\n",
    "- Start with a positive integer *x*\n",
    "- Granted that *x* is even, divide by 2\n",
    "- If *x* is odd, multiply by 3 and add 1 \n",
    "- The process will repeat continously with the result\n",
    "\n",
    "Below is an implementation of the Collatz Conjecture in Python."
   ]
  },
  {
   "cell_type": "code",
   "execution_count": 1,
   "metadata": {},
   "outputs": [
    {
     "data": {
      "text/plain": [
       "[10, 5.0, 16.0, 8.0, 4.0, 2.0, 1.0]"
      ]
     },
     "execution_count": 1,
     "metadata": {},
     "output_type": "execute_result"
    }
   ],
   "source": [
    "def collatz_conjecture(x):\n",
    "    seq = [x]\n",
    "    while(x !=1):\n",
    "        if(x % 2 == 0):\n",
    "            #Divide the number by 2 given that it is an number\n",
    "            x = x/2 \n",
    "        else:\n",
    "            #If it is an odd number, multiply by 3 and add 1\n",
    "            x = (x * 3) +1 \n",
    "        seq.append(x)\n",
    "    return seq\n",
    "\n",
    "collatz_conjecture(10)\n"
   ]
  },
  {
   "cell_type": "markdown",
   "metadata": {},
   "source": [
    "Below I have created a method which verifies the Conjecture for a given number of positive integers. If I pass 10000 as an argument for the limit parameter, the function will iterate through the first 10000 positive integers and verify that the last element of the Collatz Conjecture for each number is 1 and prints a verification message."
   ]
  },
  {
   "cell_type": "code",
   "execution_count": 2,
   "metadata": {},
   "outputs": [
    {
     "name": "stdout",
     "output_type": "stream",
     "text": [
      "The Collatz Conjecture is true for the first 10000 integers.\n"
     ]
    }
   ],
   "source": [
    "def verify_collatz_conjecture(limit):\n",
    "\n",
    "    #We will assume the Conjecture is true\n",
    "    verification = True \n",
    "\n",
    "    for i in range(1, limit + 1):\n",
    "        seq = collatz_conjecture(i)\n",
    "        #Checking if the last element is 1\n",
    "        if seq[-1] == 1:\n",
    "            return print(f\"The Collatz Conjecture is true for the first {limit} integers.\")\n",
    "        else:\n",
    "            # if the Conjecture is not true, verification is set to false\n",
    "            verification = False \n",
    "            return print(f\"Collatz Conjecture is not true for {i}.\")\n",
    "            \n",
    "# Verifying the first 10000 positive integers\n",
    "verify_collatz_conjecture(10000)"
   ]
  },
  {
   "cell_type": "markdown",
   "metadata": {},
   "source": [
    "---"
   ]
  },
  {
   "cell_type": "code",
   "execution_count": null,
   "metadata": {},
   "outputs": [],
   "source": []
  },
  {
   "cell_type": "markdown",
   "metadata": {},
   "source": [
    "# Approximating Square Roots with Newton's Method"
   ]
  },
  {
   "cell_type": "markdown",
   "metadata": {},
   "source": [
    "Newton's Method is an algorithm in which an iterative process is used to approximate the square root of a given number. This method works by starting off with an initial guess for the square root and continuing to improve the guess through a series of iterations until a satisfactory answer is found.[2]\n",
    "\n",
    "Below is an implementation of Newton's Method in Python."
   ]
  },
  {
   "cell_type": "code",
   "execution_count": 3,
   "metadata": {},
   "outputs": [
    {
     "name": "stdout",
     "output_type": "stream",
     "text": [
      "3.000000001396984\n",
      "3.023529411764706\n"
     ]
    }
   ],
   "source": [
    "#this function takes in the number x and returns an approximate square root\n",
    "#set a threshold parameter in order to terminate the algorithm when the differnce between iterations becomes small enough\n",
    "def sqrt(x,threshold=0.001):\n",
    "\n",
    "    #the first guess is equal to the number we are getting the square root of\n",
    "    guess = x\n",
    "    #the difference is used to match against the threshold parameter\n",
    "    difference = 9999\n",
    "    \n",
    "    #keep going as long as the difference is greater than the threshold passed as an argument for the threshold parameter. This is set to 0.00001 by default\n",
    "    #keep iteratingly improving the guess\n",
    "    while difference > threshold:\n",
    "        \n",
    "        #here I am using newton's formula\n",
    "        newGuess = guess - ((guess**2 - x) / (2*guess))\n",
    "\n",
    "        ##calculating the difference\n",
    "        difference = newGuess - guess\n",
    "        #this number could be positive or negative as we can overshoot while doing approximation. Using an if statement to flip the number to a positive if negative \n",
    "        if difference < 0:\n",
    "            difference*= -1\n",
    "\n",
    "        #update the guess to  newGuess to keep looping\n",
    "        guess = newGuess\n",
    "\n",
    "    return guess\n",
    "\n",
    "#calculate square root of 9\n",
    "print(sqrt(9))\n",
    "#we can alter the treshold to generate a tighter approximation\n",
    "print(sqrt(9,0.5))\n"
   ]
  },
  {
   "cell_type": "markdown",
   "metadata": {},
   "source": [
    "---\n",
    "# Boolean Algebra: Calculating Possible Functions from Input Bits"
   ]
  },
  {
   "cell_type": "markdown",
   "metadata": {},
   "source": [
    "\n",
    "\n",
    "There are 16 possible functions that take 4 bits as input and output a single bit.This is because there are 2 possible values (0 or 1) for each of the 4 input bits,resulting in 2x4 combinations of input bits. The result of the function will either be 0 or 1 again, meaning that there are 2x2x4 combinations in total, resulting in 16 possible combinations.[3]\n",
    "\n",
    "Below I have written some python code to demonstrate this"
   ]
  },
  {
   "cell_type": "code",
   "execution_count": 73,
   "metadata": {},
   "outputs": [
    {
     "name": "stdout",
     "output_type": "stream",
     "text": [
      "16\n"
     ]
    }
   ],
   "source": [
    "# Calculating all possible combinations from 4 input bits\n",
    "# a,b,c,d represent each bit position\n",
    "input_bits = [(a, b, c, d) for a in range(2) for b in range(2) for c in range(2) for d in range(2)]\n",
    "\n",
    "# Getting length of the list to print total amount of functions \n",
    "print(len(input_bits))"
   ]
  },
  {
   "cell_type": "markdown",
   "metadata": {},
   "source": [
    "Now that we know we have 16 possible functions , we can iterate through them and select one at random as shown below."
   ]
  },
  {
   "cell_type": "code",
   "execution_count": 82,
   "metadata": {},
   "outputs": [
    {
     "name": "stdout",
     "output_type": "stream",
     "text": [
      "The randomly selected function is function 2\n"
     ]
    }
   ],
   "source": [
    "import random\n",
    "\n",
    "# Defining the 16 possible functions \n",
    "functions = []\n",
    "for i in range(16):\n",
    "    # a,b,c,d represent each bit position\n",
    "    # each bit position is then multiplied by a power of 2 and summed up\n",
    "    # this creates a unique value for each combination of input bits\n",
    "    function = lambda a, b, c, d: (i >> # This part performs a bitwise right shift on i\n",
    "    (a*8 + b*4 + c*2 + d)) & 1 #the result of the bitwise right shift is ANDed with 1\n",
    "    functions.append(function)\n",
    "\n",
    "#Selecting a random function\n",
    "random_function = random.choice(functions)\n",
    "\n",
    "print(f\"The randomly selected function is function {functions.index(random_function) + 1}\")"
   ]
  },
  {
   "cell_type": "markdown",
   "metadata": {},
   "source": [
    "In order to determine which function is being represented by the lambda expression, we have to call the function for all possible combinations of inputs (a,b,c,d). This means that we need to call the function 16 times as there are 16 combinations for a 4 bit input."
   ]
  },
  {
   "cell_type": "markdown",
   "metadata": {},
   "source": [
    "---\n",
    "# Matrix Multiplication on Two Rectangular Lists"
   ]
  },
  {
   "cell_type": "markdown",
   "metadata": {},
   "source": [
    "In this task, I am exploring Matrix Multiplication in Python, which is a linear algebra operation. I will take on two different approaches to perform this operation.\n",
    "\n",
    "### *Matrix Multiplication Using Nested Loops*\n",
    "\n",
    "This approach of performing the operation utilizes traditional nested loops to perform the operation. This provides us with a strong conceptual understanding as we are directly implementing the mathematical definiton of matrix multiplication through nested iterations. In the example below, I am taking two Matrices A and B as input and returning the product of their multiplication using nested loops."
   ]
  },
  {
   "cell_type": "code",
   "execution_count": 6,
   "metadata": {},
   "outputs": [
    {
     "name": "stdout",
     "output_type": "stream",
     "text": [
      "[65, 51, 50, 29]\n",
      "[64, 67, 44, 27]\n",
      "[116, 48, 107, 41]\n"
     ]
    }
   ],
   "source": [
    "def matrix_multiplication(): \n",
    "\n",
    "    #creating a 3x3 matrix\n",
    "    matrix_A = [[5,4,3],\n",
    "                [4,7,2],\n",
    "                [8,1,9]]    \n",
    "    \n",
    "    #creating a 3x4 matrix\n",
    "    matrix_B = [[5,4,3,5],\n",
    "                [4,7,2,1],\n",
    "                [8,1,9,0]]   \n",
    "\n",
    "    #initialising an empty 3x4 matrix for the answer\n",
    "    result = [[0,0,0,0],\n",
    "              [0,0,0,0],\n",
    "              [0,0,0,0]] \n",
    "    \n",
    "    #iterating over rows in matrix_A\n",
    "    for i in range(len(matrix_A)) :\n",
    "        #iterating over columns in matrix_B\n",
    "        for j in range(len(matrix_B[0])) :\n",
    "            #iterating over rows in matrix_B\n",
    "            for k in range(len(matrix_B)) :\n",
    "                #multiplying corresponding values and totaling the result\n",
    "                result [i][j] += matrix_A[i][k] * matrix_B[k][j]\n",
    "\n",
    "    #printing result of the multiplication\n",
    "    for r in result:\n",
    "        print (r)\n",
    "\n",
    "matrix_multiplication()\n"
   ]
  },
  {
   "cell_type": "markdown",
   "metadata": {},
   "source": [
    "### *Matrix Multiplication Using Numpy*\n",
    "\n",
    "In this approach, we are using the NumPy library to perform the operation. This is a more efficient way to perform matrix multiplications compared to using nested loops. NumPy's dot[4] function provides the user with a simple interface for performing matrix multiplications. I have demonstrated the numpy.dot function below."
   ]
  },
  {
   "cell_type": "code",
   "execution_count": 5,
   "metadata": {},
   "outputs": [
    {
     "name": "stdout",
     "output_type": "stream",
     "text": [
      "[[ 841 5078]\n",
      " [ 145  998]]\n"
     ]
    }
   ],
   "source": [
    "\n",
    "import numpy as np\n",
    "\n",
    "#Defining two matrices\n",
    "matrix_A = np.array([[4, 91, 3], [4, 13, 6]])\n",
    "matrix_B = np.array([[4, 8], [9, 54], [2, 44]])\n",
    "\n",
    "#Multiplying the matrices using numpy\n",
    "result = np.dot(matrix_A, matrix_B)\n",
    "\n",
    "\n",
    "print(result)"
   ]
  },
  {
   "cell_type": "markdown",
   "metadata": {},
   "source": [
    "### *Conclusion*\n",
    "\n",
    "While the nested loops approach is useful for educational purposes, NumPy provides a more efficient and convenient solution for practical applications, especially when dealing with larger matrices. This is for the following reasons: \n",
    "\n",
    "- **Efficiency**: NumPy is optimized for numerical operations and provides much better performance over implementing the operation using nested loops. \n",
    "- **Conciseness**: Performing the operation using NumPy reduces the amount of code needed, making the implementation more concise and readable.\n",
    "- **Parallelization**: NumPy takes advantage of parallelization on multi-core systems which leads to further performance improvements.\n",
    "\n"
   ]
  },
  {
   "cell_type": "markdown",
   "metadata": {},
   "source": [
    "---\n",
    "# References \n",
    "[1] : https://science.howstuffworks.com/math-concepts/collatz-conjecture.htm\n",
    "\n",
    "[2] : https://www.britannica.com/science/Newtons-method\n",
    "\n",
    "[3] : https://mathworld.wolfram.com/BooleanFunction.html\n",
    "\n",
    "[4] : https://numpy.org/doc/stable/reference/generated/numpy.dot.html"
   ]
  }
 ],
 "metadata": {
  "kernelspec": {
   "display_name": "base",
   "language": "python",
   "name": "python3"
  },
  "language_info": {
   "codemirror_mode": {
    "name": "ipython",
    "version": 3
   },
   "file_extension": ".py",
   "mimetype": "text/x-python",
   "name": "python",
   "nbconvert_exporter": "python",
   "pygments_lexer": "ipython3",
   "version": "3.12.0"
  }
 },
 "nbformat": 4,
 "nbformat_minor": 2
}
