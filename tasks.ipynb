{
 "cells": [
  {
   "cell_type": "markdown",
   "metadata": {},
   "source": [
    "# Emerging Technologies\n",
    "\n",
    "*Jakub Prochnicki G00373793*\n",
    "\n",
    "---"
   ]
  },
  {
   "cell_type": "markdown",
   "metadata": {},
   "source": [
    "# The Collatz Conjecture\n",
    "\n",
    "The Collatz Conjecture is a widely known, unsolved mathematical problem. The conjecture is an iterative process and can be defined as follows:\n",
    "\n",
    "- Start with a positive integer *x*\n",
    "- Granted that *x* is even, divide by 2\n",
    "- If *x* is odd, multiply by 3 and add 1 \n",
    "- The process will repeat continously with the result\n",
    "\n",
    "Below is an implementation of the Collatz Conjecture in Python."
   ]
  },
  {
   "cell_type": "code",
   "execution_count": 56,
   "metadata": {},
   "outputs": [
    {
     "data": {
      "text/plain": [
       "[10, 5.0, 16.0, 8.0, 4.0, 2.0, 1.0]"
      ]
     },
     "execution_count": 56,
     "metadata": {},
     "output_type": "execute_result"
    }
   ],
   "source": [
    "def collatz_conjecture(x):\n",
    "    seq = [x]\n",
    "    while(x !=1):\n",
    "        if(x % 2 == 0):\n",
    "            #Divide the number by 2 given that it is an number\n",
    "            x = x/2 \n",
    "        else:\n",
    "            #If it is an odd number, multiply by 3 and add 1\n",
    "            x = (x * 3) +1 \n",
    "        seq.append(x)\n",
    "    return seq\n",
    "\n",
    "collatz_conjecture(10)\n"
   ]
  },
  {
   "cell_type": "markdown",
   "metadata": {},
   "source": [
    "Below I have created a method which verifies the Conjecture for a given number of positive integers. If I pass 10000 as an argument for the limit parameter, the function will iterate through the first 10000 positive integers and verify that the last element of the Collatz Conjecture for each number is 1 and prints a verification message."
   ]
  },
  {
   "cell_type": "code",
   "execution_count": 57,
   "metadata": {},
   "outputs": [
    {
     "name": "stdout",
     "output_type": "stream",
     "text": [
      "The Collatz Conjecture is true for the first 10000 integers.\n"
     ]
    }
   ],
   "source": [
    "def verify_collatz_conjecture(limit):\n",
    "\n",
    "    #We will assume the Conjecture is true\n",
    "    verification = True \n",
    "\n",
    "    for i in range(1, limit + 1):\n",
    "        seq = collatz_conjecture(i)\n",
    "        #Checking if the last element is 1\n",
    "        if seq[-1] == 1:\n",
    "            return print(f\"The Collatz Conjecture is true for the first {limit} integers.\")\n",
    "        else:\n",
    "            # if the Conjecture is not true, verification is set to false\n",
    "            verification = False \n",
    "            return print(f\"Collatz Conjecture is not true for {i}.\")\n",
    "            \n",
    "# Verifying the first 10000 positive integers\n",
    "verify_collatz_conjecture(10000)"
   ]
  },
  {
   "cell_type": "markdown",
   "metadata": {},
   "source": [
    "# Approximating Square Roots with Newton's Method"
   ]
  },
  {
   "cell_type": "markdown",
   "metadata": {},
   "source": [
    "Newton's Method is an algorithm in which an iterative process is used to approximate the square root of a given number. This method works by starting off with an initial guess for the square root and continuing to improve the guess through a series of iterations until a satisfactory answer is found. Below is an implementation of Newton's Method in Python."
   ]
  },
  {
   "cell_type": "code",
   "execution_count": 59,
   "metadata": {},
   "outputs": [
    {
     "name": "stdout",
     "output_type": "stream",
     "text": [
      "3.000000001396984\n",
      "3.023529411764706\n"
     ]
    }
   ],
   "source": [
    "#this function takes in the number x and returns an approximate square root\n",
    "#set a threshold parameter in order to terminate the algorithm when the differnce between iterations becomes small enough\n",
    "def sqrt(x,threshold=0.001):\n",
    "\n",
    "    #the first guess is equal to the number we are getting the square root of\n",
    "    guess = x\n",
    "    #the difference is used to match against the threshold parameter\n",
    "    difference = 9999\n",
    "    \n",
    "    #keep going as long as the difference is greater than the threshold passed as an argument for the threshold parameter. This is set to 0.00001 by default\n",
    "    #keep iteratingly improving the guess\n",
    "    while difference > threshold:\n",
    "        \n",
    "        #here I am using newton's formula\n",
    "        newGuess = guess - ((guess**2 - x) / (2*guess))\n",
    "\n",
    "        ##calculating the difference\n",
    "        difference = newGuess - guess\n",
    "        #this number could be positive or negative as we can overshoot while doing approximation. Using an if statement to flip the number to a positive if negative \n",
    "        if difference < 0:\n",
    "            difference*= -1\n",
    "\n",
    "        #update the guess to  newGuess to keep looping\n",
    "        guess = newGuess\n",
    "\n",
    "    return guess\n",
    "\n",
    "#calculate square root of 9\n",
    "print(sqrt(9))\n",
    "#we can alter the treshold to generate a tighter approximation\n",
    "print(sqrt(9,0.5))\n"
   ]
  }
 ],
 "metadata": {
  "kernelspec": {
   "display_name": "base",
   "language": "python",
   "name": "python3"
  },
  "language_info": {
   "codemirror_mode": {
    "name": "ipython",
    "version": 3
   },
   "file_extension": ".py",
   "mimetype": "text/x-python",
   "name": "python",
   "nbconvert_exporter": "python",
   "pygments_lexer": "ipython3",
   "version": "3.11.5"
  }
 },
 "nbformat": 4,
 "nbformat_minor": 2
}
