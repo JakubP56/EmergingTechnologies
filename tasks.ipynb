{
 "cells": [
  {
   "cell_type": "markdown",
   "metadata": {},
   "source": [
    "# Emerging Technologies\n",
    "\n",
    "*Jakub Prochnicki G00373793*\n",
    "\n",
    "---"
   ]
  },
  {
   "cell_type": "markdown",
   "metadata": {},
   "source": [
    "# The Collatz Conjecture\n",
    "\n",
    "The Collatz Conjecture is a widely known, unsolved mathematical problem. The conjecture is an iterative process and can be defined as follows:\n",
    "\n",
    "- Start with a positive integer *x*\n",
    "- Granted that *x* is even, divide by 2\n",
    "- If *x* is odd, multiply by 3 and add 1 \n",
    "- The process will repeat continously with the result\n",
    "\n",
    "Below is an implementation of the Collatz Conjecture in Python."
   ]
  },
  {
   "cell_type": "code",
   "execution_count": 5,
   "metadata": {},
   "outputs": [
    {
     "data": {
      "text/plain": [
       "[10, 5.0, 16.0, 8.0, 4.0, 2.0, 1.0]"
      ]
     },
     "execution_count": 5,
     "metadata": {},
     "output_type": "execute_result"
    }
   ],
   "source": [
    "def collatz_conjecture(x):\n",
    "    seq = [x]\n",
    "    while(x !=1):\n",
    "        if(x % 2 == 0):\n",
    "            #Divide the number by 2 given that it is an number\n",
    "            x = x/2 \n",
    "        else:\n",
    "            #If it is an odd number, multiply by 3 and add 1\n",
    "            x = (x * 3) +1 \n",
    "        seq.append(x)\n",
    "    return seq\n",
    "\n",
    "collatz_conjecture(10)\n"
   ]
  },
  {
   "cell_type": "markdown",
   "metadata": {},
   "source": [
    "Below I have created a method which verifies the Conjecture for a given number of positive integers. If I pass 10000 as an argument for the limit parameter, the function will iterate through the first 10000 positive integers and verify that the last element of the Collatz Conjecture for each number is 1 and prints a verification message."
   ]
  },
  {
   "cell_type": "code",
   "execution_count": 14,
   "metadata": {},
   "outputs": [
    {
     "name": "stdout",
     "output_type": "stream",
     "text": [
      "The Collatz Conjecture is true for the first 10000 integers.\n"
     ]
    }
   ],
   "source": [
    "def verify_collatz_conjecture(limit):\n",
    "\n",
    "    #We will assume the Conjecture is true\n",
    "    verification = True \n",
    "\n",
    "    for i in range(1, limit + 1):\n",
    "        seq = collatz_conjecture(i)\n",
    "        #Checking if the last element is 1\n",
    "        if seq[-1] == 1:\n",
    "            return print(f\"The Collatz Conjecture is true for the first {limit} integers.\")\n",
    "        else:\n",
    "            # if the Conjecture is not true, verification is set to false\n",
    "            verification = False \n",
    "            return print(f\"Collatz Conjecture is not true for {i}.\")\n",
    "            \n",
    "# Verifying the first 10000 positive integers\n",
    "verify_collatz_conjecture(10000)"
   ]
  }
 ],
 "metadata": {
  "kernelspec": {
   "display_name": "base",
   "language": "python",
   "name": "python3"
  },
  "language_info": {
   "codemirror_mode": {
    "name": "ipython",
    "version": 3
   },
   "file_extension": ".py",
   "mimetype": "text/x-python",
   "name": "python",
   "nbconvert_exporter": "python",
   "pygments_lexer": "ipython3",
   "version": "3.11.5"
  }
 },
 "nbformat": 4,
 "nbformat_minor": 2
}
